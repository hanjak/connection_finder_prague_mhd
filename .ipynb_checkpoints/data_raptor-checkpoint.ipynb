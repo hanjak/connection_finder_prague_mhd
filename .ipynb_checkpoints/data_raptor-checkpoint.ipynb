{
 "cells": [
  {
   "cell_type": "code",
   "execution_count": 1,
   "id": "8938b2d9",
   "metadata": {},
   "outputs": [
    {
     "ename": "FileNotFoundError",
     "evalue": "[Errno 2] No such file or directory: 'routes.txt'",
     "output_type": "error",
     "traceback": [
      "\u001b[0;31m---------------------------------------------------------------------------\u001b[0m",
      "\u001b[0;31mFileNotFoundError\u001b[0m                         Traceback (most recent call last)",
      "\u001b[0;32m/tmp/ipykernel_7989/299238748.py\u001b[0m in \u001b[0;36m<module>\u001b[0;34m\u001b[0m\n\u001b[1;32m      7\u001b[0m \u001b[0;34m\u001b[0m\u001b[0m\n\u001b[1;32m      8\u001b[0m \u001b[0;34m\u001b[0m\u001b[0m\n\u001b[0;32m----> 9\u001b[0;31m \u001b[0mroutes\u001b[0m \u001b[0;34m=\u001b[0m \u001b[0mpd\u001b[0m\u001b[0;34m.\u001b[0m\u001b[0mread_csv\u001b[0m\u001b[0;34m(\u001b[0m\u001b[0;34m\"routes.txt\"\u001b[0m\u001b[0;34m)\u001b[0m\u001b[0;34m\u001b[0m\u001b[0;34m\u001b[0m\u001b[0m\n\u001b[0m\u001b[1;32m     10\u001b[0m \u001b[0mtrips\u001b[0m \u001b[0;34m=\u001b[0m \u001b[0mpd\u001b[0m\u001b[0;34m.\u001b[0m\u001b[0mread_csv\u001b[0m\u001b[0;34m(\u001b[0m\u001b[0;34m\"trips.txt\"\u001b[0m\u001b[0;34m,\u001b[0m\u001b[0mlow_memory\u001b[0m\u001b[0;34m=\u001b[0m\u001b[0;32mFalse\u001b[0m\u001b[0;34m)\u001b[0m\u001b[0;34m\u001b[0m\u001b[0;34m\u001b[0m\u001b[0m\n\u001b[1;32m     11\u001b[0m \u001b[0mstops\u001b[0m \u001b[0;34m=\u001b[0m \u001b[0mpd\u001b[0m\u001b[0;34m.\u001b[0m\u001b[0mread_csv\u001b[0m\u001b[0;34m(\u001b[0m\u001b[0;34m\"stops.txt\"\u001b[0m\u001b[0;34m)\u001b[0m\u001b[0;34m\u001b[0m\u001b[0;34m\u001b[0m\u001b[0m\n",
      "\u001b[0;32m~/pyhanja/projects/connection_finder_prague_mhd/venv/lib/python3.9/site-packages/pandas/util/_decorators.py\u001b[0m in \u001b[0;36mwrapper\u001b[0;34m(*args, **kwargs)\u001b[0m\n\u001b[1;32m    309\u001b[0m                     \u001b[0mstacklevel\u001b[0m\u001b[0;34m=\u001b[0m\u001b[0mstacklevel\u001b[0m\u001b[0;34m,\u001b[0m\u001b[0;34m\u001b[0m\u001b[0;34m\u001b[0m\u001b[0m\n\u001b[1;32m    310\u001b[0m                 )\n\u001b[0;32m--> 311\u001b[0;31m             \u001b[0;32mreturn\u001b[0m \u001b[0mfunc\u001b[0m\u001b[0;34m(\u001b[0m\u001b[0;34m*\u001b[0m\u001b[0margs\u001b[0m\u001b[0;34m,\u001b[0m \u001b[0;34m**\u001b[0m\u001b[0mkwargs\u001b[0m\u001b[0;34m)\u001b[0m\u001b[0;34m\u001b[0m\u001b[0;34m\u001b[0m\u001b[0m\n\u001b[0m\u001b[1;32m    312\u001b[0m \u001b[0;34m\u001b[0m\u001b[0m\n\u001b[1;32m    313\u001b[0m         \u001b[0;32mreturn\u001b[0m \u001b[0mwrapper\u001b[0m\u001b[0;34m\u001b[0m\u001b[0;34m\u001b[0m\u001b[0m\n",
      "\u001b[0;32m~/pyhanja/projects/connection_finder_prague_mhd/venv/lib/python3.9/site-packages/pandas/io/parsers/readers.py\u001b[0m in \u001b[0;36mread_csv\u001b[0;34m(filepath_or_buffer, sep, delimiter, header, names, index_col, usecols, squeeze, prefix, mangle_dupe_cols, dtype, engine, converters, true_values, false_values, skipinitialspace, skiprows, skipfooter, nrows, na_values, keep_default_na, na_filter, verbose, skip_blank_lines, parse_dates, infer_datetime_format, keep_date_col, date_parser, dayfirst, cache_dates, iterator, chunksize, compression, thousands, decimal, lineterminator, quotechar, quoting, doublequote, escapechar, comment, encoding, encoding_errors, dialect, error_bad_lines, warn_bad_lines, on_bad_lines, delim_whitespace, low_memory, memory_map, float_precision, storage_options)\u001b[0m\n\u001b[1;32m    584\u001b[0m     \u001b[0mkwds\u001b[0m\u001b[0;34m.\u001b[0m\u001b[0mupdate\u001b[0m\u001b[0;34m(\u001b[0m\u001b[0mkwds_defaults\u001b[0m\u001b[0;34m)\u001b[0m\u001b[0;34m\u001b[0m\u001b[0;34m\u001b[0m\u001b[0m\n\u001b[1;32m    585\u001b[0m \u001b[0;34m\u001b[0m\u001b[0m\n\u001b[0;32m--> 586\u001b[0;31m     \u001b[0;32mreturn\u001b[0m \u001b[0m_read\u001b[0m\u001b[0;34m(\u001b[0m\u001b[0mfilepath_or_buffer\u001b[0m\u001b[0;34m,\u001b[0m \u001b[0mkwds\u001b[0m\u001b[0;34m)\u001b[0m\u001b[0;34m\u001b[0m\u001b[0;34m\u001b[0m\u001b[0m\n\u001b[0m\u001b[1;32m    587\u001b[0m \u001b[0;34m\u001b[0m\u001b[0m\n\u001b[1;32m    588\u001b[0m \u001b[0;34m\u001b[0m\u001b[0m\n",
      "\u001b[0;32m~/pyhanja/projects/connection_finder_prague_mhd/venv/lib/python3.9/site-packages/pandas/io/parsers/readers.py\u001b[0m in \u001b[0;36m_read\u001b[0;34m(filepath_or_buffer, kwds)\u001b[0m\n\u001b[1;32m    480\u001b[0m \u001b[0;34m\u001b[0m\u001b[0m\n\u001b[1;32m    481\u001b[0m     \u001b[0;31m# Create the parser.\u001b[0m\u001b[0;34m\u001b[0m\u001b[0;34m\u001b[0m\u001b[0;34m\u001b[0m\u001b[0m\n\u001b[0;32m--> 482\u001b[0;31m     \u001b[0mparser\u001b[0m \u001b[0;34m=\u001b[0m \u001b[0mTextFileReader\u001b[0m\u001b[0;34m(\u001b[0m\u001b[0mfilepath_or_buffer\u001b[0m\u001b[0;34m,\u001b[0m \u001b[0;34m**\u001b[0m\u001b[0mkwds\u001b[0m\u001b[0;34m)\u001b[0m\u001b[0;34m\u001b[0m\u001b[0;34m\u001b[0m\u001b[0m\n\u001b[0m\u001b[1;32m    483\u001b[0m \u001b[0;34m\u001b[0m\u001b[0m\n\u001b[1;32m    484\u001b[0m     \u001b[0;32mif\u001b[0m \u001b[0mchunksize\u001b[0m \u001b[0;32mor\u001b[0m \u001b[0miterator\u001b[0m\u001b[0;34m:\u001b[0m\u001b[0;34m\u001b[0m\u001b[0;34m\u001b[0m\u001b[0m\n",
      "\u001b[0;32m~/pyhanja/projects/connection_finder_prague_mhd/venv/lib/python3.9/site-packages/pandas/io/parsers/readers.py\u001b[0m in \u001b[0;36m__init__\u001b[0;34m(self, f, engine, **kwds)\u001b[0m\n\u001b[1;32m    809\u001b[0m             \u001b[0mself\u001b[0m\u001b[0;34m.\u001b[0m\u001b[0moptions\u001b[0m\u001b[0;34m[\u001b[0m\u001b[0;34m\"has_index_names\"\u001b[0m\u001b[0;34m]\u001b[0m \u001b[0;34m=\u001b[0m \u001b[0mkwds\u001b[0m\u001b[0;34m[\u001b[0m\u001b[0;34m\"has_index_names\"\u001b[0m\u001b[0;34m]\u001b[0m\u001b[0;34m\u001b[0m\u001b[0;34m\u001b[0m\u001b[0m\n\u001b[1;32m    810\u001b[0m \u001b[0;34m\u001b[0m\u001b[0m\n\u001b[0;32m--> 811\u001b[0;31m         \u001b[0mself\u001b[0m\u001b[0;34m.\u001b[0m\u001b[0m_engine\u001b[0m \u001b[0;34m=\u001b[0m \u001b[0mself\u001b[0m\u001b[0;34m.\u001b[0m\u001b[0m_make_engine\u001b[0m\u001b[0;34m(\u001b[0m\u001b[0mself\u001b[0m\u001b[0;34m.\u001b[0m\u001b[0mengine\u001b[0m\u001b[0;34m)\u001b[0m\u001b[0;34m\u001b[0m\u001b[0;34m\u001b[0m\u001b[0m\n\u001b[0m\u001b[1;32m    812\u001b[0m \u001b[0;34m\u001b[0m\u001b[0m\n\u001b[1;32m    813\u001b[0m     \u001b[0;32mdef\u001b[0m \u001b[0mclose\u001b[0m\u001b[0;34m(\u001b[0m\u001b[0mself\u001b[0m\u001b[0;34m)\u001b[0m\u001b[0;34m:\u001b[0m\u001b[0;34m\u001b[0m\u001b[0;34m\u001b[0m\u001b[0m\n",
      "\u001b[0;32m~/pyhanja/projects/connection_finder_prague_mhd/venv/lib/python3.9/site-packages/pandas/io/parsers/readers.py\u001b[0m in \u001b[0;36m_make_engine\u001b[0;34m(self, engine)\u001b[0m\n\u001b[1;32m   1038\u001b[0m             )\n\u001b[1;32m   1039\u001b[0m         \u001b[0;31m# error: Too many arguments for \"ParserBase\"\u001b[0m\u001b[0;34m\u001b[0m\u001b[0;34m\u001b[0m\u001b[0;34m\u001b[0m\u001b[0m\n\u001b[0;32m-> 1040\u001b[0;31m         \u001b[0;32mreturn\u001b[0m \u001b[0mmapping\u001b[0m\u001b[0;34m[\u001b[0m\u001b[0mengine\u001b[0m\u001b[0;34m]\u001b[0m\u001b[0;34m(\u001b[0m\u001b[0mself\u001b[0m\u001b[0;34m.\u001b[0m\u001b[0mf\u001b[0m\u001b[0;34m,\u001b[0m \u001b[0;34m**\u001b[0m\u001b[0mself\u001b[0m\u001b[0;34m.\u001b[0m\u001b[0moptions\u001b[0m\u001b[0;34m)\u001b[0m  \u001b[0;31m# type: ignore[call-arg]\u001b[0m\u001b[0;34m\u001b[0m\u001b[0;34m\u001b[0m\u001b[0m\n\u001b[0m\u001b[1;32m   1041\u001b[0m \u001b[0;34m\u001b[0m\u001b[0m\n\u001b[1;32m   1042\u001b[0m     \u001b[0;32mdef\u001b[0m \u001b[0m_failover_to_python\u001b[0m\u001b[0;34m(\u001b[0m\u001b[0mself\u001b[0m\u001b[0;34m)\u001b[0m\u001b[0;34m:\u001b[0m\u001b[0;34m\u001b[0m\u001b[0;34m\u001b[0m\u001b[0m\n",
      "\u001b[0;32m~/pyhanja/projects/connection_finder_prague_mhd/venv/lib/python3.9/site-packages/pandas/io/parsers/c_parser_wrapper.py\u001b[0m in \u001b[0;36m__init__\u001b[0;34m(self, src, **kwds)\u001b[0m\n\u001b[1;32m     49\u001b[0m \u001b[0;34m\u001b[0m\u001b[0m\n\u001b[1;32m     50\u001b[0m         \u001b[0;31m# open handles\u001b[0m\u001b[0;34m\u001b[0m\u001b[0;34m\u001b[0m\u001b[0;34m\u001b[0m\u001b[0m\n\u001b[0;32m---> 51\u001b[0;31m         \u001b[0mself\u001b[0m\u001b[0;34m.\u001b[0m\u001b[0m_open_handles\u001b[0m\u001b[0;34m(\u001b[0m\u001b[0msrc\u001b[0m\u001b[0;34m,\u001b[0m \u001b[0mkwds\u001b[0m\u001b[0;34m)\u001b[0m\u001b[0;34m\u001b[0m\u001b[0;34m\u001b[0m\u001b[0m\n\u001b[0m\u001b[1;32m     52\u001b[0m         \u001b[0;32massert\u001b[0m \u001b[0mself\u001b[0m\u001b[0;34m.\u001b[0m\u001b[0mhandles\u001b[0m \u001b[0;32mis\u001b[0m \u001b[0;32mnot\u001b[0m \u001b[0;32mNone\u001b[0m\u001b[0;34m\u001b[0m\u001b[0;34m\u001b[0m\u001b[0m\n\u001b[1;32m     53\u001b[0m \u001b[0;34m\u001b[0m\u001b[0m\n",
      "\u001b[0;32m~/pyhanja/projects/connection_finder_prague_mhd/venv/lib/python3.9/site-packages/pandas/io/parsers/base_parser.py\u001b[0m in \u001b[0;36m_open_handles\u001b[0;34m(self, src, kwds)\u001b[0m\n\u001b[1;32m    220\u001b[0m         \u001b[0mLet\u001b[0m \u001b[0mthe\u001b[0m \u001b[0mreaders\u001b[0m \u001b[0mopen\u001b[0m \u001b[0mIOHandles\u001b[0m \u001b[0mafter\u001b[0m \u001b[0mthey\u001b[0m \u001b[0mare\u001b[0m \u001b[0mdone\u001b[0m \u001b[0;32mwith\u001b[0m \u001b[0mtheir\u001b[0m \u001b[0mpotential\u001b[0m \u001b[0mraises\u001b[0m\u001b[0;34m.\u001b[0m\u001b[0;34m\u001b[0m\u001b[0;34m\u001b[0m\u001b[0m\n\u001b[1;32m    221\u001b[0m         \"\"\"\n\u001b[0;32m--> 222\u001b[0;31m         self.handles = get_handle(\n\u001b[0m\u001b[1;32m    223\u001b[0m             \u001b[0msrc\u001b[0m\u001b[0;34m,\u001b[0m\u001b[0;34m\u001b[0m\u001b[0;34m\u001b[0m\u001b[0m\n\u001b[1;32m    224\u001b[0m             \u001b[0;34m\"r\"\u001b[0m\u001b[0;34m,\u001b[0m\u001b[0;34m\u001b[0m\u001b[0;34m\u001b[0m\u001b[0m\n",
      "\u001b[0;32m~/pyhanja/projects/connection_finder_prague_mhd/venv/lib/python3.9/site-packages/pandas/io/common.py\u001b[0m in \u001b[0;36mget_handle\u001b[0;34m(path_or_buf, mode, encoding, compression, memory_map, is_text, errors, storage_options)\u001b[0m\n\u001b[1;32m    699\u001b[0m         \u001b[0;32mif\u001b[0m \u001b[0mioargs\u001b[0m\u001b[0;34m.\u001b[0m\u001b[0mencoding\u001b[0m \u001b[0;32mand\u001b[0m \u001b[0;34m\"b\"\u001b[0m \u001b[0;32mnot\u001b[0m \u001b[0;32min\u001b[0m \u001b[0mioargs\u001b[0m\u001b[0;34m.\u001b[0m\u001b[0mmode\u001b[0m\u001b[0;34m:\u001b[0m\u001b[0;34m\u001b[0m\u001b[0;34m\u001b[0m\u001b[0m\n\u001b[1;32m    700\u001b[0m             \u001b[0;31m# Encoding\u001b[0m\u001b[0;34m\u001b[0m\u001b[0;34m\u001b[0m\u001b[0;34m\u001b[0m\u001b[0m\n\u001b[0;32m--> 701\u001b[0;31m             handle = open(\n\u001b[0m\u001b[1;32m    702\u001b[0m                 \u001b[0mhandle\u001b[0m\u001b[0;34m,\u001b[0m\u001b[0;34m\u001b[0m\u001b[0;34m\u001b[0m\u001b[0m\n\u001b[1;32m    703\u001b[0m                 \u001b[0mioargs\u001b[0m\u001b[0;34m.\u001b[0m\u001b[0mmode\u001b[0m\u001b[0;34m,\u001b[0m\u001b[0;34m\u001b[0m\u001b[0;34m\u001b[0m\u001b[0m\n",
      "\u001b[0;31mFileNotFoundError\u001b[0m: [Errno 2] No such file or directory: 'routes.txt'"
     ]
    }
   ],
   "source": [
    "import pandas as pd  \n",
    "import numpy as np\n",
    "\n",
    "import datetime\n",
    "from datetime import datetime\n",
    "import sys\n",
    "\n",
    "\n",
    "routes = pd.read_csv(\"routes.txt\")\n",
    "trips = pd.read_csv(\"trips.txt\",low_memory=False)\n",
    "stops = pd.read_csv(\"stops.txt\")\n",
    "stop_times = pd.read_csv(\"stop_times.txt\", low_memory=False)\n",
    "\n",
    "routes_clean = routes[[\"route_id\",\"route_short_name\",\"route_long_name\",\"route_type\",\"is_night\", \"is_regional\"]]\n",
    "\n",
    "trips_clean = trips[[\"route_id\",\"trip_id\",\"shape_id\",\"direction_id\"]]\n",
    "\n",
    "stops_clean = stops[[\"stop_id\",\"stop_name\"]]\n",
    "\n",
    "stop_times_clean = stop_times[[\"trip_id\",\"arrival_time\",\"departure_time\",\"stop_id\",\"stop_sequence\"]]\n",
    "\n",
    "stop_times_stops = pd.merge(\n",
    "    stop_times_clean,\n",
    "    stops_clean,\n",
    "    on = \"stop_id\")\n",
    "\n",
    "trips_routes = pd.merge(\n",
    "    trips_clean,\n",
    "    routes_clean,\n",
    "    on = \"route_id\")\n",
    "\n",
    "data_all_1 = pd.merge(\n",
    "    stop_times_stops,\n",
    "    trips_routes,\n",
    "    on = \"trip_id\")\n",
    "data_all_1.head()\n",
    "\n",
    "data_all = data_all_1.loc[data_all_1[\"is_regional\"].isin([0])]\n",
    "data_all = data_all_1.loc[data_all_1[\"is_night\"].isin([0])]\n"
   ]
  },
  {
   "cell_type": "markdown",
   "id": "b4c17d8a",
   "metadata": {},
   "source": [
    "## Selecting only day and regional connections (metro,tram, buses with line number lower than 250)"
   ]
  },
  {
   "cell_type": "code",
   "execution_count": null,
   "id": "eb6b1dfc",
   "metadata": {},
   "outputs": [],
   "source": [
    "all_route_names = data_all.route_id.unique()\n",
    "selected_routes = [\"L991\",\"L992\",\"L993\"]\n",
    "for route in all_route_names:\n",
    "    if int(str(route)[1:])<251:\n",
    "        selected_routes.append(route)\n",
    "data_all = data_all.loc[data_all[\"route_id\"].isin(selected_routes)]"
   ]
  },
  {
   "cell_type": "markdown",
   "id": "ee1888df",
   "metadata": {},
   "source": [
    "## Sorting the data around routes and trips"
   ]
  },
  {
   "cell_type": "code",
   "execution_count": null,
   "id": "716c1b1e",
   "metadata": {},
   "outputs": [],
   "source": [
    "data_all =data_all.sort_values(['route_id','trip_id','stop_sequence'],ascending=True)\n",
    "data_all = data_all.reset_index(drop=True)"
   ]
  },
  {
   "cell_type": "markdown",
   "id": "1b0275ff",
   "metadata": {},
   "source": [
    " ## Creating route_raptor_id  as route_id plus first letter of stop_names"
   ]
  },
  {
   "cell_type": "code",
   "execution_count": null,
   "id": "2f3652b2",
   "metadata": {},
   "outputs": [],
   "source": [
    "data_all['first_letter'] = data_all.apply(lambda row: str(row.stop_name)[0], axis=1)\n",
    "r = data_all.groupby(\"trip_id\")[\"first_letter\"].sum()\n",
    "data_all.insert(1,\"trip_letters\",data_all['trip_id'].map(r))\n",
    "data_all['route_raptor_id'] = data_all.apply(lambda row: str(row.route_id)+str(row.trip_letters), axis=1)"
   ]
  },
  {
   "cell_type": "code",
   "execution_count": null,
   "id": "0ff45554",
   "metadata": {},
   "outputs": [],
   "source": []
  },
  {
   "cell_type": "markdown",
   "id": "a99ec3ed",
   "metadata": {},
   "source": [
    "## dropping data with time over midnight"
   ]
  },
  {
   "cell_type": "code",
   "execution_count": null,
   "id": "16fb823d",
   "metadata": {},
   "outputs": [],
   "source": [
    "data_all['first_digits_time'] = data_all.apply(lambda row: str(row.arrival_time)[:2], axis=1)\n",
    "index_names = data_all[data_all['first_digits_time'] == str(25) ].index\n",
    "data_all.drop(index_names, inplace = True)\n",
    "index_names = data_all[data_all['first_digits_time'] == str(24) ].index\n",
    "data_all.drop(index_names, inplace = True)"
   ]
  },
  {
   "cell_type": "code",
   "execution_count": null,
   "id": "18d927c5",
   "metadata": {},
   "outputs": [],
   "source": []
  },
  {
   "cell_type": "markdown",
   "id": "0d83595e",
   "metadata": {},
   "source": [
    "## Changing the string format of time to total seconds (float)"
   ]
  },
  {
   "cell_type": "code",
   "execution_count": null,
   "id": "f4e17d98",
   "metadata": {},
   "outputs": [],
   "source": [
    "data_all['arrival_time_datetime'] = data_all.apply(lambda row: datetime.strptime('23:59:59','%H:%M:%S') if (row.arrival_time[:2])==str(24) else datetime.strptime(row['arrival_time'], '%H:%M:%S'), axis=1)\n",
    "data_all['departure_time_datetime'] = data_all.apply(lambda row: datetime.strptime('23:59:59','%H:%M:%S') if (row.departure_time[:2])==str(24) else datetime.strptime(row['departure_time'], '%H:%M:%S'), axis=1)\n"
   ]
  },
  {
   "cell_type": "code",
   "execution_count": null,
   "id": "a86ffbce",
   "metadata": {},
   "outputs": [],
   "source": [
    "time=datetime.strptime('00:00:00','%H:%M:%S')"
   ]
  },
  {
   "cell_type": "code",
   "execution_count": null,
   "id": "603a1a76",
   "metadata": {},
   "outputs": [],
   "source": [
    "data_all['time_difference_dep'] = data_all.apply(lambda row: row.departure_time_datetime-time, axis=1)\n",
    "data_all['time_difference_arr'] = data_all.apply(lambda row: row.departure_time_datetime-time, axis=1)\n",
    "data_all['trip_departures_seconds'] = data_all.apply(lambda row: row.time_difference_dep.total_seconds(), axis=1)\n",
    "\n",
    "data_all['trip_arrivals_seconds'] = data_all.apply(lambda row: row.time_difference_arr.total_seconds(), axis=1)"
   ]
  },
  {
   "cell_type": "code",
   "execution_count": null,
   "id": "6192c0e2",
   "metadata": {},
   "outputs": [],
   "source": [
    "g=data_all.groupby(\"trip_id\")[\"trip_departures_seconds\"].aggregate( lambda x: x.tolist())\n",
    "data_all.insert(1,\"trip_departure_times_seconds\",data_all['trip_id'].map(g))\n",
    "\n",
    "q=data_all.groupby(\"trip_id\")[\"trip_arrivals_seconds\"].aggregate( lambda x: x.tolist())\n",
    "data_all.insert(1,\"trip_arrival_times_seconds\",data_all['trip_id'].map(q))"
   ]
  },
  {
   "cell_type": "code",
   "execution_count": null,
   "id": "0ed02d91",
   "metadata": {},
   "outputs": [],
   "source": []
  },
  {
   "cell_type": "markdown",
   "id": "f87e0655",
   "metadata": {},
   "source": [
    "## for each trip - find the minimal departure and assign this value to all rows of the trips (so that the data can be ordered by trip departures)"
   ]
  },
  {
   "cell_type": "code",
   "execution_count": null,
   "id": "ec133067",
   "metadata": {},
   "outputs": [],
   "source": [
    "s = data_all.groupby(\"trip_id\")[\"time_difference_dep\"].min()\n",
    "data_all.insert(1,\"min_departure\",data_all['trip_id'].map(s))"
   ]
  },
  {
   "cell_type": "code",
   "execution_count": null,
   "id": "e67f8767",
   "metadata": {},
   "outputs": [],
   "source": []
  },
  {
   "cell_type": "markdown",
   "id": "dad7391d",
   "metadata": {},
   "source": [
    "## creating list of stop_names for each trip"
   ]
  },
  {
   "cell_type": "code",
   "execution_count": null,
   "id": "a0f7d24e",
   "metadata": {},
   "outputs": [],
   "source": [
    "z=data_all.groupby(\"trip_id\")[\"stop_name\"].aggregate(lambda x: x.tolist())\n",
    "data_all.insert(1,\"trip_stop_names\",data_all['trip_id'].map(z))"
   ]
  },
  {
   "cell_type": "code",
   "execution_count": null,
   "id": "ae6a7a94",
   "metadata": {},
   "outputs": [],
   "source": []
  },
  {
   "cell_type": "markdown",
   "id": "19e57c31",
   "metadata": {},
   "source": [
    "## creating list of route_raptor ids for each stop"
   ]
  },
  {
   "cell_type": "code",
   "execution_count": null,
   "id": "5e7fa4da",
   "metadata": {},
   "outputs": [],
   "source": [
    "m=data_all.groupby(\"stop_name\")[\"route_raptor_id\"].aggregate(lambda x: x.tolist())\n",
    "data_all.insert(1,\"stop_routes_all\",data_all['stop_name'].map(m))"
   ]
  },
  {
   "cell_type": "code",
   "execution_count": null,
   "id": "35ae6c5a",
   "metadata": {},
   "outputs": [],
   "source": []
  },
  {
   "cell_type": "code",
   "execution_count": null,
   "id": "87d1711a",
   "metadata": {},
   "outputs": [],
   "source": []
  },
  {
   "cell_type": "markdown",
   "id": "269988da",
   "metadata": {},
   "source": [
    "## dropping unnecessary columns"
   ]
  },
  {
   "cell_type": "code",
   "execution_count": null,
   "id": "16005640",
   "metadata": {},
   "outputs": [],
   "source": [
    "data_all = data_all.drop(columns=['trip_letters', 'shape_id', 'route_type','first_letter',])"
   ]
  },
  {
   "cell_type": "code",
   "execution_count": null,
   "id": "8bf6a5f4",
   "metadata": {},
   "outputs": [],
   "source": [
    "data_all = data_all.drop(columns=['stop_id','trip_departure_times','trip_arrival_times','is_regional','is_night','route_long_name','direction_id'])"
   ]
  },
  {
   "cell_type": "markdown",
   "id": "8fde25ba",
   "metadata": {},
   "source": [
    "## creating data_stops df, which contains each stop only once and contains list of all route_raptor_ids connected to the stop"
   ]
  },
  {
   "cell_type": "code",
   "execution_count": null,
   "id": "44b402d4",
   "metadata": {},
   "outputs": [],
   "source": [
    "data_stops = data_all.drop_duplicates(subset='stop_name')"
   ]
  },
  {
   "cell_type": "markdown",
   "id": "6d8af776",
   "metadata": {},
   "source": [
    "## reduction of the data_all df to only only row per trip"
   ]
  },
  {
   "cell_type": "code",
   "execution_count": null,
   "id": "2052ded1",
   "metadata": {},
   "outputs": [],
   "source": [
    "data_all = data_all[data_all[\"stop_sequence\"]==1]"
   ]
  },
  {
   "cell_type": "markdown",
   "id": "61d678cc",
   "metadata": {},
   "source": [
    "## sorting data"
   ]
  },
  {
   "cell_type": "code",
   "execution_count": null,
   "id": "58042a8a",
   "metadata": {},
   "outputs": [],
   "source": [
    "data_all =data_all.sort_values(['route_raptor_id','min_departure','stop_sequence'],ascending=True)\n",
    "data_all = data_all.reset_index(drop=True)"
   ]
  },
  {
   "cell_type": "code",
   "execution_count": null,
   "id": "58ef33e0",
   "metadata": {},
   "outputs": [],
   "source": []
  },
  {
   "cell_type": "markdown",
   "id": "d1a4dddc",
   "metadata": {},
   "source": [
    "## saving data"
   ]
  },
  {
   "cell_type": "code",
   "execution_count": null,
   "id": "24315f1d",
   "metadata": {},
   "outputs": [],
   "source": [
    "data_all.to_csv('data.csv', encoding='utf-8', index=False)\n",
    "data_stops.to_csv('data_stops.csv', encoding='utf-8', index=False)"
   ]
  },
  {
   "cell_type": "code",
   "execution_count": null,
   "id": "cab521b9",
   "metadata": {},
   "outputs": [],
   "source": []
  },
  {
   "cell_type": "code",
   "execution_count": null,
   "id": "01d40537",
   "metadata": {},
   "outputs": [],
   "source": []
  },
  {
   "cell_type": "code",
   "execution_count": null,
   "id": "2a00cbf0",
   "metadata": {},
   "outputs": [],
   "source": []
  },
  {
   "cell_type": "code",
   "execution_count": null,
   "id": "d78f1ae6",
   "metadata": {},
   "outputs": [],
   "source": []
  }
 ],
 "metadata": {
  "kernelspec": {
   "display_name": "Python 3 (ipykernel)",
   "language": "python",
   "name": "python3"
  },
  "language_info": {
   "codemirror_mode": {
    "name": "ipython",
    "version": 3
   },
   "file_extension": ".py",
   "mimetype": "text/x-python",
   "name": "python",
   "nbconvert_exporter": "python",
   "pygments_lexer": "ipython3",
   "version": "3.9.5"
  }
 },
 "nbformat": 4,
 "nbformat_minor": 5
}
